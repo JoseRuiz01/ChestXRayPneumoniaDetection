{
 "cells": [
  {
   "cell_type": "markdown",
   "metadata": {},
   "source": [
    "***Grupo 04***\n",
    "\n",
    "***Andrés Viñé Sánchez, Beatriz Aedo Díaz, Candela Esquinas Sánchez, José Antonio Ruiz Heredia***"
   ]
  },
  {
   "cell_type": "markdown",
   "metadata": {},
   "source": [
    "**1. Importación de librerías y datos**"
   ]
  },
  {
   "cell_type": "code",
   "execution_count": 1,
   "metadata": {},
   "outputs": [],
   "source": [
    "import csv\n",
    "import os\n",
    "from Data_Paths import *"
   ]
  },
  {
   "cell_type": "markdown",
   "metadata": {},
   "source": [
    "Guardar rutas de carpetas en un array."
   ]
  },
  {
   "cell_type": "code",
   "execution_count": 2,
   "metadata": {},
   "outputs": [],
   "source": [
    "folder_paths = [TRAIN_DATASET, TEST_DATASET, VAL_DATASET]"
   ]
  },
  {
   "cell_type": "markdown",
   "metadata": {},
   "source": [
    "**2. Cargar y etiquetar datos**"
   ]
  },
  {
   "cell_type": "markdown",
   "metadata": {},
   "source": [
    "Primero definimos las etiquetas y las columnas de nuestro csv"
   ]
  },
  {
   "cell_type": "code",
   "execution_count": 3,
   "metadata": {},
   "outputs": [],
   "source": [
    "# Categorías\n",
    "category_label = [\"Normal\", \"Pneumonia\"]\n",
    "data_label = [\"Train\", \"Test\", \"Val\"]\n",
    "\n",
    "# Columnas del csv\n",
    "headers = [\"image_path\", \"image_name\", \"category_index\", \"category_label\", \"data_index\", \"data_label\"]"
   ]
  },
  {
   "cell_type": "markdown",
   "metadata": {},
   "source": [
    "Métodos auxiliares para asignar etiquetas y escribir el csv"
   ]
  },
  {
   "cell_type": "code",
   "execution_count": 4,
   "metadata": {},
   "outputs": [],
   "source": [
    "# Devuelve la etiqueta asociada al índice de la categoría\n",
    "def getCategory(index):\n",
    "    category_type_label = category_label[index]\n",
    "    return category_type_label\n",
    "\n",
    "def getType(index):\n",
    "    data_type_label= data_label[index]\n",
    "    return data_type_label\n",
    "\n",
    "# Escribimos una fila en el csv\n",
    "def write(writer, file_path, file_name, category_index, category_label, data_type_index, data_type_label):\n",
    "    writer.writerow([\n",
    "        file_path,\n",
    "        file_name, \n",
    "        category_index, \n",
    "        category_label, \n",
    "        data_type_index,\n",
    "        data_type_label\n",
    "    ])"
   ]
  },
  {
   "cell_type": "markdown",
   "metadata": {},
   "source": [
    "Método principal para recorrer nuestros archivos y etiquetar nuestro dataset"
   ]
  },
  {
   "cell_type": "code",
   "execution_count": 5,
   "metadata": {},
   "outputs": [],
   "source": [
    "# Cargo las rutas de mis archivos\n",
    "labeled_dataset_path = os.path.join(CSV_DATSET, 'labeled_dataset.csv')\n",
    "with open(labeled_dataset_path, 'w', newline='') as csvfile:\n",
    "    \n",
    "  # Escribimos los títulos de las columnas\n",
    "  writer = csv.writer(csvfile, delimiter=',')\n",
    "  writer.writerow(i for i in headers)\n",
    "\n",
    "  # Recorremos cada tipo de dato (TEST, TRAIN, VAL)\n",
    "  for data_type_index, data_type_folder in enumerate(folder_paths):   \n",
    "\n",
    "      # Recorremos cada categoría (NORMAL, PNEUMONIA) dentro de la carpeta actual\n",
    "      for category_type_index, category_type_label in enumerate(category_label): \n",
    "          category_type_folder = os.path.join(data_type_folder, category_type_label)\n",
    "\n",
    "          # Recorremos todos los archivos dentro de la categoría\n",
    "          for root, _, files in os.walk(category_type_folder):\n",
    "            for file in files:\n",
    "                \n",
    "                # Guardamos si es un archivo JPEG\n",
    "                if file.endswith(\".jpeg\"):\n",
    "                  file_path = os.path.join(root, file)\n",
    "                  file_name, _ = os.path.splitext(file)\n",
    "                  \n",
    "                  category_type_label = getCategory(category_type_index)\n",
    "                  data_type_label = getType(data_type_index)\n",
    "                  \n",
    "                  write(writer, file_path, file_name, category_type_index, category_type_label, data_type_index, data_type_label)"
   ]
  }
 ],
 "metadata": {
  "kernelspec": {
   "display_name": "sistemas_inteligentes",
   "language": "python",
   "name": "python3"
  },
  "language_info": {
   "codemirror_mode": {
    "name": "ipython",
    "version": 3
   },
   "file_extension": ".py",
   "mimetype": "text/x-python",
   "name": "python",
   "nbconvert_exporter": "python",
   "pygments_lexer": "ipython3",
   "version": "3.11.8"
  }
 },
 "nbformat": 4,
 "nbformat_minor": 2
}
